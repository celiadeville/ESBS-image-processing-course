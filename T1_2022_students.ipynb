{
 "cells": [
  {
   "cell_type": "markdown",
   "metadata": {},
   "source": [
    "# Tutorial 1 - basic exercices on images\n",
    "\n",
    "## Objectives:\n",
    "\n",
    "- import images and fetch their characteristics\n",
    "- build and display the histogram\n",
    "- perform basic operations on images\n",
    "\n",
    "Digital images are arrays of pixels of defined color.\n",
    "For 8-bits monochromatic images, the color is sampled using 256 integer intensity values ranging from 0 to 255.\n",
    "Color RGB images require 3 intensity values per pixel.\n",
    "\n",
    "A range of different python libraries allow to manipulate and process images.\n",
    "In this tutorial, we will use the [NUMPY](https://numpy.org/) and [SCIPY](https://www.scipy.org/) libraries introduced in the first year data class.\n",
    "You will take advantage of the properties of the numpy array object to perform image processing operations.\n",
    "Images will be displayed using the `pyplot.imshow` function profided by the [MATPLOTLIB library](https://matplotlib.org/).\n",
    "You will also be introduced to the SCIKIT-IMAGE library that implements higher level operations in image processing.\n",
    "\n",
    "There are various ways to read and write image files. Here we will use the `imread` function of MATPLOTLIB. The object thus created is a numpy array. We will use the `imshow` function of matplotlib to plot images."
   ]
  },
  {
   "cell_type": "code",
   "execution_count": null,
   "metadata": {},
   "outputs": [],
   "source": [
    "import numpy as np\n",
    "import matplotlib.pyplot as plt\n",
    "from matplotlib.pyplot import imread\n",
    "import os\n",
    "from skimage import io\n",
    "from scipy import misc\n",
    "%matplotlib inline"
   ]
  },
  {
   "cell_type": "markdown",
   "metadata": {},
   "source": [
    "For students working on a local machine, using `jupyter`, make sure that the notebook and the image files are saved in the same folder.\n",
    "\n",
    "For students working on `Google colab`, you will need to import images on colab.\n",
    "1. Save images on your computer\n",
    "2. Execute the cell below when you need to import a file to colab"
   ]
  },
  {
   "cell_type": "code",
   "execution_count": null,
   "metadata": {},
   "outputs": [],
   "source": [
    "from google.colab import files\n",
    "files.upload()"
   ]
  },
  {
   "cell_type": "markdown",
   "metadata": {},
   "source": [
    "## Exercice 1: basic image manipulation\n",
    "\n",
    "*Refresher from the 1st year Data Processing TD*\n",
    "\n",
    "1. Can you identify the characteristics of the following image ? What are its dimensions ? Is it monochomatic ? How many grey levels are used ? What is the meaning of the coding `uint8`?\n"
   ]
  },
  {
   "cell_type": "code",
   "execution_count": null,
   "metadata": {},
   "outputs": [],
   "source": [
    "parrot = imread(\"parrot2.jpg\")\n",
    "print(type(parrot))\n",
    "print(\"Image size : \",parrot.size,parrot.shape,\n",
    "      \"\\nMatrix dimension : \",parrot.ndim)\n",
    "print(\"Coding : \",parrot.dtype)\n",
    "\n",
    "plt.imshow(parrot)"
   ]
  },
  {
   "cell_type": "markdown",
   "metadata": {},
   "source": [
    "2. If it is a color image:\n",
    "    - plot the different color components separately,\n",
    "    - identify the colors associated with different components of the image\n",
    "    "
   ]
  },
  {
   "cell_type": "code",
   "execution_count": null,
   "metadata": {},
   "outputs": [],
   "source": [
    "f = plt.figure(figsize=(15,8))\n",
    "for color in range(3): # color = 0 1 2\n",
    "    plt.subplot(\"13\"+(str(color+1)))\n",
    "    # 1 line to complete\n",
    "\n",
    "    plt.axis('off')\n",
    "    plt.title(\"color \"+str(color))"
   ]
  },
  {
   "cell_type": "markdown",
   "metadata": {},
   "source": [
    "3. Modify the previous script to change the colormaps to make them match the color components of the image.\n",
    "\n",
    "You will find a list of available colormap on the following web page:\n",
    "[Choosing Colormaps in Matplotlib](https://matplotlib.org/stable/tutorials/colors/colormaps.html)"
   ]
  },
  {
   "cell_type": "code",
   "execution_count": null,
   "metadata": {},
   "outputs": [],
   "source": [
    "f = plt.figure(figsize=(15,8))\n",
    "\n",
    "colormaps = [] # TO COMPLETE\n",
    "for color in range(3):\n",
    "    plt.subplot(\"13\"+(str(color+1)))\n",
    "    # 1 line TO COMPLETE\n",
    "    \n",
    "    plt.axis('off')\n",
    "    plt.title(colormaps[color])"
   ]
  },
  {
   "cell_type": "markdown",
   "metadata": {},
   "source": [
    "We are actually only interested in Coco, the scarlet macaw on the right side of the picture.\n",
    "\n",
    "4. Generate a cropped image that only contains Coco"
   ]
  },
  {
   "cell_type": "code",
   "execution_count": null,
   "metadata": {},
   "outputs": [],
   "source": [
    "# TO COMPLETE\n",
    "cocopic = \n",
    "\n",
    "plt.imshow(cocopic)"
   ]
  },
  {
   "cell_type": "markdown",
   "metadata": {},
   "source": [
    "The following code plots the histograms of the 3 color components.\n",
    "\n",
    "5. Comment of the image exposure. Why is the contribution of low intensity values more important for green and blue histograms ?"
   ]
  },
  {
   "cell_type": "code",
   "execution_count": null,
   "metadata": {},
   "outputs": [],
   "source": [
    "ti=['red','green','blue'] #plot histograms for the 3 color components\n",
    "fighis = plt.figure(figsize=(12,4))\n",
    "for color in range(3):\n",
    "    plt.subplot(\"13\"+(str(color+1)))\n",
    "    plt.hist(cocopic[:,:,color].ravel(), bins=256, fc='k', ec=ti[color])\n",
    "    plt.title(ti[color])\n"
   ]
  },
  {
   "cell_type": "markdown",
   "metadata": {},
   "source": [
    "6. Add a black rectangle on Coco's face to preserve its anonymity"
   ]
  },
  {
   "cell_type": "code",
   "execution_count": null,
   "metadata": {},
   "outputs": [],
   "source": [
    "anonymouscoco = cocopic.copy()\n",
    "#TO COMPLETE\n",
    "\n",
    "\n",
    "\n",
    "plt.imshow(anonymouscoco)"
   ]
  },
  {
   "cell_type": "markdown",
   "metadata": {},
   "source": [
    "7. Plot the histograms of the anonymized Coco picture. Comment."
   ]
  },
  {
   "cell_type": "code",
   "execution_count": null,
   "metadata": {},
   "outputs": [],
   "source": [
    "ti=['red','green','blue'] #plot histograms for the 3 color components\n",
    "fighis = plt.figure(figsize=(12,4))\n",
    "# TO COMPLETE\n"
   ]
  },
  {
   "cell_type": "markdown",
   "metadata": {},
   "source": [
    "## Exercice 2: microscope calibration\n",
    "\n",
    "Microscope specifications usually provide nominal magnifications.\n",
    "Depending on the exact setup, position of the detector, etc, the actual magnification may differ significantly. \n",
    "Therefore a calibration of pixel sizes is required before quantitative spatial measurement on micrographs.\n",
    "\n",
    "Hereafter is the image of a calibration object. Graduations are every 10$\\mu$m in the object\n",
    "\n",
    "1. What are the dimensions of the image? Is it monochromatic? How is the data encoded?\n",
    "2. Determine the actual pixel size. Use the interactive viewer two cells down."
   ]
  },
  {
   "cell_type": "code",
   "execution_count": null,
   "metadata": {},
   "outputs": [],
   "source": [
    "mic_grid = imread('Grid10um.tif')\n",
    "plt.imshow(mic_grid)\n",
    "print(\"Image size : \",mic_grid.size,mic_grid.shape,\n",
    "      \"\\nMatrix dimension : \",mic_grid.ndim)\n",
    "print(\"Coding : \",mic_grid.dtype)\n",
    "print(\"Python object type :\",type(mic_grid))"
   ]
  },
  {
   "cell_type": "code",
   "execution_count": null,
   "metadata": {},
   "outputs": [],
   "source": [
    "from skimage.viewer.plugins import lineprofile\n",
    "from skimage import viewer\n",
    "\n",
    "new_viewer = viewer.ImageViewer(mic_grid) \n",
    "new_viewer += lineprofile.LineProfile() \n",
    "new_viewer.show() "
   ]
  },
  {
   "cell_type": "markdown",
   "metadata": {},
   "source": [
    "## Exercice 3: quantification of a dot blot\n",
    "\n",
    "The following image shows the result of a dot blot experiment.\n",
    "\n",
    "1. Is it a monochromatic or color image?"
   ]
  },
  {
   "cell_type": "code",
   "execution_count": null,
   "metadata": {},
   "outputs": [],
   "source": [
    "blot=imread('Dot_Blot.jpg')\n",
    "\n",
    "print(\"Python object type :\",type(blot))\n",
    "\n",
    "print(\"Image size : \",blot.size,blot.shape,\n",
    "      \"\\nMatrix dimension : \",blot.ndim)\n",
    "print(\"Coding : \",blot.dtype) \n",
    "\n",
    "plt.imshow(blot)\n"
   ]
  },
  {
   "cell_type": "markdown",
   "metadata": {},
   "source": [
    "The following script converts the image into a monochromatic one using the following [luma transform](https://en.wikipedia.org/wiki/Luma_(video)) `L = R * 299/1000 + G * 587/1000 + B * 114/1000`"
   ]
  },
  {
   "cell_type": "code",
   "execution_count": null,
   "metadata": {},
   "outputs": [],
   "source": [
    "blotBW2=blot.astype('float64')[:,:,0] * 299/1000 +blot.astype('float64')[:,:,1] * 587/1000 + blot.astype('float64')[:,:,2] * 114/1000\n",
    "blotBW2=blotBW2.astype('uint8')"
   ]
  },
  {
   "cell_type": "markdown",
   "metadata": {},
   "source": [
    "2. Plot the histogram of the image."
   ]
  },
  {
   "cell_type": "code",
   "execution_count": null,
   "metadata": {},
   "outputs": [],
   "source": [
    "# TO COMPLETE"
   ]
  },
  {
   "cell_type": "markdown",
   "metadata": {},
   "source": [
    "3. Write functions to rotate the image by 180 degrees, to flip it horizontaly and verticaly.\n"
   ]
  },
  {
   "cell_type": "code",
   "execution_count": null,
   "metadata": {},
   "outputs": [],
   "source": [
    "# TO COMPLETE"
   ]
  },
  {
   "cell_type": "markdown",
   "metadata": {},
   "source": [
    "4. We want to compare the intensities of the first and last dots of the third line.\n",
    "    a. Extract the two dots by cropping the image\n",
    "    b. Is the background the same for the two dots positions? You will propose a method to evaluate the local background for each dot.\n",
    "    c. Compare the intensities of the two dots.\n",
    "    "
   ]
  },
  {
   "cell_type": "code",
   "execution_count": null,
   "metadata": {},
   "outputs": [],
   "source": [
    "# TO COMPLETE"
   ]
  }
 ],
 "metadata": {
  "kernelspec": {
   "display_name": "Python 3 (ipykernel)",
   "language": "python",
   "name": "python3"
  },
  "language_info": {
   "codemirror_mode": {
    "name": "ipython",
    "version": 3
   },
   "file_extension": ".py",
   "mimetype": "text/x-python",
   "name": "python",
   "nbconvert_exporter": "python",
   "pygments_lexer": "ipython3",
   "version": "3.9.7"
  }
 },
 "nbformat": 4,
 "nbformat_minor": 4
}
